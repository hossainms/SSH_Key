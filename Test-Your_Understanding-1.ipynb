import ipywidgets as widgets
from IPython.display import display, clear_output

def launch_quiz():
    # Questions, choices, and correct answers
    questions = [
        {
            "question": "1. Which key will Ahmed use to encrypt letter-D so only Blake can read it?",
            "choices": [
                "A) Ahmed's private key",
                "B) Ahmed's public key",
                "C) Blake's private key",
                "D) Blake's public key"
            ],
            "answer": 3
        },
        {
            "question": "2. Which key will Ahmed use to create his digital signature?",
            "choices": [
                "A) Ahmed's private key",
                "B) Ahmed's public key",
                "C) Blake's private key",
                "D) Blake's public key"
            ],
            "answer": 0
        },
        {
            "question": "3. Which key must Blake use to decrypt and read letter-D?",
            "choices": [
                "A) Ahmed's private key",
                "B) Ahmed's public key",
                "C) Blake's private key",
                "D) Blake's public key"
            ],
            "answer": 2
        },
        {
            "question": "4. Which key will Blake use to verify that the letter actually came from Ahmed?",
            "choices": [
                "A) Ahmed's private key",
                "B) Ahmed's public key",
                "C) Blake's private key",
                "D) Blake's public key"
            ],
            "answer": 1
        },
        {
            "question": "5. Why can't the hacker Zara read the content of letter-D? Which key would she need?",
            "choices": [
                "A) She would need Ahmed's public key",
                "B) She would need Ahmed's private key",
                "C) She would need Blake's public key",
                "D) She would need Blake's private key"
            ],
            "answer": 3
        }
    ]

    # Create radio buttons for each question
    radio_buttons = []
    for q in questions:
        r = widgets.RadioButtons(
            options=q["choices"],
            layout={'width': 'max-content'},
            style={'description_width': 'initial'}
        )
        radio_buttons.append(r)

    # Buttons
    submit_button = widgets.Button(description="Submit", button_style='success')
    retest_button = widgets.Button(description="Retest", button_style='warning')
    output = widgets.Output()

    # Scoring message
    def get_score_message(score):
        if score == 5:
            return "🏆 Excellent! You understand asymmetric cryptography very well."
        elif score == 4:
            return "👍 Great job! Just a bit of review needed."
        elif score == 3:
            return "🧐 Not bad. Review the core concepts."
        else:
            return "📘 Time to revisit the material and retry!"

    # Submit logic
    def check_answers(b):
        with output:
            clear_output()
            score = 0
            for idx, r in enumerate(radio_buttons):
                if r.index == questions[idx]["answer"]:
                    print(f"✅ Q{idx+1}: Correct")
                    score += 1
                else:
                    correct = questions[idx]["choices"][questions[idx]["answer"]]
                    print(f"❌ Q{idx+1}: Incorrect (Correct: {correct})")
            print(f"\n🎯 You scored {score} out of {len(questions)}")
            print(get_score_message(score))

    # Reset logic
    def reset_answers(b):
        with output:
            clear_output()
        for r in radio_buttons:
            r.value = None

    submit_button.on_click(check_answers)
    retest_button.on_click(reset_answers)

    # Display header
    display(widgets.HTML(value="<h3>🔐 Test Your Understanding: Asymmetric Cryptography in Action</h3>"))

    # Display each question with its widget
    for idx, q in enumerate(questions):
        display(widgets.HTML(value=f"<b>{q['question']}</b>"))
        display(radio_buttons[idx])

    # Buttons and output
    display(widgets.HBox([submit_button, retest_button]))
    display(output)

# Run the quiz
launch_quiz()
