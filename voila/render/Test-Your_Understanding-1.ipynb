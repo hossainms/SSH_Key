{
 "cells": [
  {
   "cell_type": "code",
   "execution_count": 8,
   "id": "de2dfe7e-be0a-46d1-baaf-60db5c67738a",
   "metadata": {},
   "outputs": [
    {
     "data": {
      "application/vnd.jupyter.widget-view+json": {
       "model_id": "5424fa1d6955444583e6d4716690fdaf",
       "version_major": 2,
       "version_minor": 0
      },
      "text/plain": [
       "HTML(value='<h3>🔐 Test Your Understanding: Asymmetric Cryptography in Action</h3>')"
      ]
     },
     "metadata": {},
     "output_type": "display_data"
    },
    {
     "data": {
      "application/vnd.jupyter.widget-view+json": {
       "model_id": "96f3b668e3e54e33b35c112d3c08e3c9",
       "version_major": 2,
       "version_minor": 0
      },
      "text/plain": [
       "HTML(value='<b>1. Which key will Ahmed use to encrypt letter-D so only Blake can read it?</b>')"
      ]
     },
     "metadata": {},
     "output_type": "display_data"
    },
    {
     "data": {
      "application/vnd.jupyter.widget-view+json": {
       "model_id": "5189afe902e34e9384c2273eff37648b",
       "version_major": 2,
       "version_minor": 0
      },
      "text/plain": [
       "RadioButtons(layout=Layout(width='max-content'), options=(\"A) Ahmed's private key\", \"B) Ahmed's public key\", \"…"
      ]
     },
     "metadata": {},
     "output_type": "display_data"
    },
    {
     "data": {
      "application/vnd.jupyter.widget-view+json": {
       "model_id": "6c40c2f4ed6a495a9bac4b686e5c6c56",
       "version_major": 2,
       "version_minor": 0
      },
      "text/plain": [
       "HTML(value='<b>2. Which key will Ahmed use to create his digital signature?</b>')"
      ]
     },
     "metadata": {},
     "output_type": "display_data"
    },
    {
     "data": {
      "application/vnd.jupyter.widget-view+json": {
       "model_id": "53fb8e28b308405fbf90ad4c40ec9ee6",
       "version_major": 2,
       "version_minor": 0
      },
      "text/plain": [
       "RadioButtons(layout=Layout(width='max-content'), options=(\"A) Ahmed's private key\", \"B) Ahmed's public key\", \"…"
      ]
     },
     "metadata": {},
     "output_type": "display_data"
    },
    {
     "data": {
      "application/vnd.jupyter.widget-view+json": {
       "model_id": "7a2bc15b4662462d9746524034e1fafe",
       "version_major": 2,
       "version_minor": 0
      },
      "text/plain": [
       "HTML(value='<b>3. Which key must Blake use to decrypt and read letter-D?</b>')"
      ]
     },
     "metadata": {},
     "output_type": "display_data"
    },
    {
     "data": {
      "application/vnd.jupyter.widget-view+json": {
       "model_id": "e5d431995bc941feb2759e8ab0b331fc",
       "version_major": 2,
       "version_minor": 0
      },
      "text/plain": [
       "RadioButtons(layout=Layout(width='max-content'), options=(\"A) Ahmed's private key\", \"B) Ahmed's public key\", \"…"
      ]
     },
     "metadata": {},
     "output_type": "display_data"
    },
    {
     "data": {
      "application/vnd.jupyter.widget-view+json": {
       "model_id": "ee94ac1eec754df48d73a9a41e268f8a",
       "version_major": 2,
       "version_minor": 0
      },
      "text/plain": [
       "HTML(value='<b>4. Which key will Blake use to verify that the letter actually came from Ahmed?</b>')"
      ]
     },
     "metadata": {},
     "output_type": "display_data"
    },
    {
     "data": {
      "application/vnd.jupyter.widget-view+json": {
       "model_id": "88774712cb7c48c2add6f7312ad60cb8",
       "version_major": 2,
       "version_minor": 0
      },
      "text/plain": [
       "RadioButtons(layout=Layout(width='max-content'), options=(\"A) Ahmed's private key\", \"B) Ahmed's public key\", \"…"
      ]
     },
     "metadata": {},
     "output_type": "display_data"
    },
    {
     "data": {
      "application/vnd.jupyter.widget-view+json": {
       "model_id": "203fb8d03bc740cf99daa27486d80feb",
       "version_major": 2,
       "version_minor": 0
      },
      "text/plain": [
       "HTML(value=\"<b>5. Why can't the hacker Zara read the content of letter-D? Which key would she need?</b>\")"
      ]
     },
     "metadata": {},
     "output_type": "display_data"
    },
    {
     "data": {
      "application/vnd.jupyter.widget-view+json": {
       "model_id": "e502f7d6a9d340f4a6e7ecb3c3751afd",
       "version_major": 2,
       "version_minor": 0
      },
      "text/plain": [
       "RadioButtons(layout=Layout(width='max-content'), options=(\"A) She would need Ahmed's public key\", \"B) She woul…"
      ]
     },
     "metadata": {},
     "output_type": "display_data"
    },
    {
     "data": {
      "application/vnd.jupyter.widget-view+json": {
       "model_id": "55e37ab38ed7428b8ab17b2f8ea2c6fc",
       "version_major": 2,
       "version_minor": 0
      },
      "text/plain": [
       "HBox(children=(Button(button_style='success', description='Submit', style=ButtonStyle()), Button(button_style=…"
      ]
     },
     "metadata": {},
     "output_type": "display_data"
    },
    {
     "data": {
      "application/vnd.jupyter.widget-view+json": {
       "model_id": "bed465c280994d5db4d547f1903779af",
       "version_major": 2,
       "version_minor": 0
      },
      "text/plain": [
       "Output()"
      ]
     },
     "metadata": {},
     "output_type": "display_data"
    }
   ],
   "source": [
    "import ipywidgets as widgets\n",
    "from IPython.display import display, clear_output\n",
    "\n",
    "def launch_quiz():\n",
    "    # Questions, choices, and correct answers\n",
    "    questions = [\n",
    "        {\n",
    "            \"question\": \"1. Which key will Ahmed use to encrypt letter-D so only Blake can read it?\",\n",
    "            \"choices\": [\n",
    "                \"A) Ahmed's private key\",\n",
    "                \"B) Ahmed's public key\",\n",
    "                \"C) Blake's private key\",\n",
    "                \"D) Blake's public key\"\n",
    "            ],\n",
    "            \"answer\": 3\n",
    "        },\n",
    "        {\n",
    "            \"question\": \"2. Which key will Ahmed use to create his digital signature?\",\n",
    "            \"choices\": [\n",
    "                \"A) Ahmed's private key\",\n",
    "                \"B) Ahmed's public key\",\n",
    "                \"C) Blake's private key\",\n",
    "                \"D) Blake's public key\"\n",
    "            ],\n",
    "            \"answer\": 0\n",
    "        },\n",
    "        {\n",
    "            \"question\": \"3. Which key must Blake use to decrypt and read letter-D?\",\n",
    "            \"choices\": [\n",
    "                \"A) Ahmed's private key\",\n",
    "                \"B) Ahmed's public key\",\n",
    "                \"C) Blake's private key\",\n",
    "                \"D) Blake's public key\"\n",
    "            ],\n",
    "            \"answer\": 2\n",
    "        },\n",
    "        {\n",
    "            \"question\": \"4. Which key will Blake use to verify that the letter actually came from Ahmed?\",\n",
    "            \"choices\": [\n",
    "                \"A) Ahmed's private key\",\n",
    "                \"B) Ahmed's public key\",\n",
    "                \"C) Blake's private key\",\n",
    "                \"D) Blake's public key\"\n",
    "            ],\n",
    "            \"answer\": 1\n",
    "        },\n",
    "        {\n",
    "            \"question\": \"5. Why can't the hacker Zara read the content of letter-D? Which key would she need?\",\n",
    "            \"choices\": [\n",
    "                \"A) She would need Ahmed's public key\",\n",
    "                \"B) She would need Ahmed's private key\",\n",
    "                \"C) She would need Blake's public key\",\n",
    "                \"D) She would need Blake's private key\"\n",
    "            ],\n",
    "            \"answer\": 3\n",
    "        }\n",
    "    ]\n",
    "\n",
    "    # Create radio buttons for each question\n",
    "    radio_buttons = []\n",
    "    for q in questions:\n",
    "        r = widgets.RadioButtons(\n",
    "            options=q[\"choices\"],\n",
    "            layout={'width': 'max-content'},\n",
    "            style={'description_width': 'initial'}\n",
    "        )\n",
    "        radio_buttons.append(r)\n",
    "\n",
    "    # Buttons\n",
    "    submit_button = widgets.Button(description=\"Submit\", button_style='success')\n",
    "    retest_button = widgets.Button(description=\"Retest\", button_style='warning')\n",
    "    output = widgets.Output()\n",
    "\n",
    "    # Scoring message\n",
    "    def get_score_message(score):\n",
    "        if score == 5:\n",
    "            return \"🏆 Excellent! You understand asymmetric cryptography very well.\"\n",
    "        elif score == 4:\n",
    "            return \"👍 Great job! Just a bit of review needed.\"\n",
    "        elif score == 3:\n",
    "            return \"🧐 Not bad. Review the core concepts.\"\n",
    "        else:\n",
    "            return \"📘 Time to revisit the material and retry!\"\n",
    "\n",
    "    # Submit logic\n",
    "    def check_answers(b):\n",
    "        with output:\n",
    "            clear_output()\n",
    "            score = 0\n",
    "            for idx, r in enumerate(radio_buttons):\n",
    "                if r.index == questions[idx][\"answer\"]:\n",
    "                    print(f\"✅ Q{idx+1}: Correct\")\n",
    "                    score += 1\n",
    "                else:\n",
    "                    correct = questions[idx][\"choices\"][questions[idx][\"answer\"]]\n",
    "                    print(f\"❌ Q{idx+1}: Incorrect (Correct: {correct})\")\n",
    "            print(f\"\\n🎯 You scored {score} out of {len(questions)}\")\n",
    "            print(get_score_message(score))\n",
    "\n",
    "    # Reset logic\n",
    "    def reset_answers(b):\n",
    "        with output:\n",
    "            clear_output()\n",
    "        for r in radio_buttons:\n",
    "            r.value = None\n",
    "\n",
    "    submit_button.on_click(check_answers)\n",
    "    retest_button.on_click(reset_answers)\n",
    "\n",
    "    # Display header\n",
    "    display(widgets.HTML(value=\"<h3>🔐 Test Your Understanding: Asymmetric Cryptography in Action</h3>\"))\n",
    "\n",
    "    # Display each question with its widget\n",
    "    for idx, q in enumerate(questions):\n",
    "        display(widgets.HTML(value=f\"<b>{q['question']}</b>\"))\n",
    "        display(radio_buttons[idx])\n",
    "\n",
    "    # Buttons and output\n",
    "    display(widgets.HBox([submit_button, retest_button]))\n",
    "    display(output)\n",
    "\n",
    "# Run the quiz\n",
    "launch_quiz()"
   ]
  },
  {
   "cell_type": "code",
   "execution_count": null,
   "id": "6882b860-d329-4cca-b041-23eedbdf5f1b",
   "metadata": {},
   "outputs": [],
   "source": []
  }
 ],
 "metadata": {
  "kernelspec": {
   "display_name": "Python 3 (ipykernel)",
   "language": "python",
   "name": "python3"
  },
  "language_info": {
   "codemirror_mode": {
    "name": "ipython",
    "version": 3
   },
   "file_extension": ".py",
   "mimetype": "text/x-python",
   "name": "python",
   "nbconvert_exporter": "python",
   "pygments_lexer": "ipython3",
   "version": "3.12.4"
  }
 },
 "nbformat": 4,
 "nbformat_minor": 5
}
